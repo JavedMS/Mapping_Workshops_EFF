{
 "cells": [
  {
   "cell_type": "code",
   "execution_count": null,
   "metadata": {},
   "outputs": [],
   "source": []
  },
  {
   "cell_type": "code",
   "execution_count": 1,
   "metadata": {},
   "outputs": [],
   "source": [
    "import pandas as pd"
   ]
  },
  {
   "cell_type": "code",
   "execution_count": 19,
   "metadata": {},
   "outputs": [
    {
     "name": "stdout",
     "output_type": "stream",
     "text": [
      "Hvilke fylker i Norge mener du er best egnet til vindkraft?\n",
      "I hvilken grad er du enig eller uenig at vindmøller plasseres her?\n",
      "Hvilke fylker i Norge tror du er best egnet til solkraft?\n",
      "Hvilken fornybar energikilde ville du valgt?\n",
      "wind_exper\n",
      "20\n"
     ]
    },
    {
     "name": "stderr",
     "output_type": "stream",
     "text": [
      "C:\\Users\\nikoo\\AppData\\Local\\Packages\\PythonSoftwareFoundation.Python.3.10_qbz5n2kfra8p0\\LocalCache\\local-packages\\Python310\\site-packages\\openpyxl\\styles\\stylesheet.py:226: UserWarning: Workbook contains no default style, apply openpyxl's default\n",
      "  warn(\"Workbook contains no default style, apply openpyxl's default\")\n"
     ]
    }
   ],
   "source": [
    "# Add to clean_file\n",
    "from clean_file import combine_table\n",
    "\n",
    "\n",
    "file_path_r = \"files/raw\"\n",
    "file_path_m = \"files/modified\"\n",
    "file_name = [\"res-engelsk.xlsx\",\"res-norsk.xlsx\"]\n",
    "all_data = []\n",
    "\n",
    "for file in file_name:\n",
    "    all_data.append(pd.read_excel(file_path_r + \"/\" + file))\n",
    "    all_data[-1].to_csv(file_path_m + \"/\" + file[0:-5] + \".csv\", index=False)\n",
    "\n",
    "data = all_data[-1]\n",
    "data = combine_table(data)"
   ]
  },
  {
   "cell_type": "code",
   "execution_count": 21,
   "metadata": {},
   "outputs": [
    {
     "name": "stdout",
     "output_type": "stream",
     "text": [
      "$submission_id                                                                                       int64\n",
      "$created                                                                                    datetime64[ns]\n",
      "Hvilken kode ble du gitt når vi startet?                                                            object\n",
      "Hva synes du er de tre viktigste tingene å tenke på ved utbygging av fornybar energi?               object\n",
      "Hvilken fornybar energikilde ville du valgt?                                                        object\n",
      "I hvilken grad er du enig eller uenig at vindmøller plasseres her?                                  object\n",
      "I områder der det er lite økonomisk aktivitet for å etablere ny industri                             int64\n",
      "Nærme der elektrisiteten brukes og flest mennesker bor                                               int64\n",
      "I øde områder der lite elektrisitet brukes (høye transportkostnader)                                 int64\n",
      "I områder der naturen er påvirket av menneskelig aktivitet (byer eller tettsteder)                   int64\n",
      "I områder det naturen ikke er påvirket av menneskelig aktivitet (skog eller øde områder)             int64\n",
      "Nærme eksisterende veier og strømledninger for å redusere behovet for nye                            int64\n",
      "Ikke i naturreservater for å beskytte dyre- og fugleliv                                              int64\n",
      "Hvordan synes du er best å ta hensyn til denne usikkerheten?                                        object\n",
      "renew_int                                                                                            int64\n",
      "Hvilket alternativ foretrekker du?                                                                  object\n",
      "$answer_time_ms                                                                                      int64\n",
      "Hvilke fylker i Norge mener du er best egnet til vindkraft?                                         object\n",
      "Hvilke fylker i Norge tror du er best egnet til solkraft?                                           object\n",
      "wind_exper                                                                                          object\n",
      "dtype: object\n"
     ]
    }
   ],
   "source": [
    "print(data.dtypes) # Print the datatypes"
   ]
  },
  {
   "cell_type": "code",
   "execution_count": 16,
   "metadata": {},
   "outputs": [
    {
     "name": "stdout",
     "output_type": "stream",
     "text": [
      "RangeIndex(start=0, stop=57, step=1)\n"
     ]
    }
   ],
   "source": [
    "print(data.index) # Print the index of the data"
   ]
  },
  {
   "cell_type": "code",
   "execution_count": 17,
   "metadata": {},
   "outputs": [
    {
     "name": "stdout",
     "output_type": "stream",
     "text": [
      "[[31916418 Timestamp('2024-05-24 09:08:17') 'Mari' ... 1\n",
      "  'Kabler over bakken' 154054]\n",
      " [31924795 Timestamp('2024-05-24 15:10:24') '9a' ... 2\n",
      "  'Kabler under bakken' 598071]\n",
      " [31924796 Timestamp('2024-05-24 15:10:27') '21A' ... 1\n",
      "  'Kabler under bakken' 516948]\n",
      " ...\n",
      " [32041032 Timestamp('2024-06-03 09:23:00') '1B' ... 3\n",
      "  'Kabler under bakken' 335859]\n",
      " [32041116 Timestamp('2024-06-03 09:27:07') '9B' ... 3\n",
      "  'Kabler over bakken' 520557]\n",
      " [32041118 Timestamp('2024-06-03 09:27:21') '8B' ... 3\n",
      "  'Kabler over bakken' 551413]]\n"
     ]
    }
   ],
   "source": [
    "print(data.to_numpy()) # Print the data to a numpy object"
   ]
  },
  {
   "cell_type": "code",
   "execution_count": 20,
   "metadata": {},
   "outputs": [
    {
     "name": "stdout",
     "output_type": "stream",
     "text": [
      "       $submission_id                       $created  \\\n",
      "count    5.700000e+01                             57   \n",
      "mean     3.200545e+07  2024-05-30 10:57:46.508772096   \n",
      "min      3.191642e+07            2024-05-24 09:08:17   \n",
      "25%      3.202233e+07            2024-05-31 11:14:54   \n",
      "50%      3.202242e+07            2024-05-31 11:19:17   \n",
      "75%      3.202259e+07            2024-05-31 11:27:35   \n",
      "max      3.204112e+07            2024-06-03 09:27:21   \n",
      "std      4.055869e+04                            NaN   \n",
      "\n",
      "       I områder der det er lite økonomisk aktivitet for å etablere ny industri  \\\n",
      "count                                          57.000000                          \n",
      "mean                                            3.280702                          \n",
      "min                                             1.000000                          \n",
      "25%                                             3.000000                          \n",
      "50%                                             3.000000                          \n",
      "75%                                             4.000000                          \n",
      "max                                             5.000000                          \n",
      "std                                             1.030852                          \n",
      "\n",
      "       Nærme der elektrisiteten brukes og flest mennesker bor  \\\n",
      "count                                          57.000000        \n",
      "mean                                            2.736842        \n",
      "min                                             1.000000        \n",
      "25%                                             2.000000        \n",
      "50%                                             3.000000        \n",
      "75%                                             3.000000        \n",
      "max                                             5.000000        \n",
      "std                                             0.991505        \n",
      "\n",
      "       I øde områder der lite elektrisitet brukes (høye transportkostnader)  \\\n",
      "count                                          57.000000                      \n",
      "mean                                            3.052632                      \n",
      "min                                             1.000000                      \n",
      "25%                                             3.000000                      \n",
      "50%                                             3.000000                      \n",
      "75%                                             4.000000                      \n",
      "max                                             5.000000                      \n",
      "std                                             0.989608                      \n",
      "\n",
      "       I områder der naturen er påvirket av menneskelig aktivitet (byer eller tettsteder)  \\\n",
      "count                                          57.000000                                    \n",
      "mean                                            2.719298                                    \n",
      "min                                             1.000000                                    \n",
      "25%                                             2.000000                                    \n",
      "50%                                             3.000000                                    \n",
      "75%                                             3.000000                                    \n",
      "max                                             5.000000                                    \n",
      "std                                             0.995604                                    \n",
      "\n",
      "       I områder det naturen ikke er påvirket av menneskelig aktivitet (skog eller øde områder)  \\\n",
      "count                                          57.000000                                          \n",
      "mean                                            2.859649                                          \n",
      "min                                             1.000000                                          \n",
      "25%                                             2.000000                                          \n",
      "50%                                             3.000000                                          \n",
      "75%                                             4.000000                                          \n",
      "max                                             5.000000                                          \n",
      "std                                             1.186811                                          \n",
      "\n",
      "       Nærme eksisterende veier og strømledninger for å redusere behovet for nye  \\\n",
      "count                                          57.000000                           \n",
      "mean                                            3.228070                           \n",
      "min                                             1.000000                           \n",
      "25%                                             3.000000                           \n",
      "50%                                             3.000000                           \n",
      "75%                                             4.000000                           \n",
      "max                                             5.000000                           \n",
      "std                                             1.225001                           \n",
      "\n",
      "       Ikke i naturreservater for å beskytte dyre- og fugleliv  renew_int  \\\n",
      "count                                          57.000000        57.000000   \n",
      "mean                                            3.807018         2.122807   \n",
      "min                                             1.000000         1.000000   \n",
      "25%                                             3.000000         1.000000   \n",
      "50%                                             4.000000         2.000000   \n",
      "75%                                             5.000000         3.000000   \n",
      "max                                             5.000000         3.000000   \n",
      "std                                             1.125017         0.887818   \n",
      "\n",
      "       $answer_time_ms  \n",
      "count     5.700000e+01  \n",
      "mean      4.536436e+05  \n",
      "min       1.259600e+05  \n",
      "25%       2.961290e+05  \n",
      "50%       3.711670e+05  \n",
      "75%       5.205570e+05  \n",
      "max       3.150465e+06  \n",
      "std       3.959443e+05  \n"
     ]
    }
   ],
   "source": [
    "print(data.describe()) # Describes the data"
   ]
  },
  {
   "cell_type": "markdown",
   "metadata": {},
   "source": [
    "## SELECT A COLUMN"
   ]
  },
  {
   "cell_type": "code",
   "execution_count": 28,
   "metadata": {},
   "outputs": [
    {
     "data": {
      "text/plain": [
       "0     (0, 0, 0, 0, 0, 1, 0, 0, 1, 0, 0)\n",
       "1     (0, 0, 0, 0, 0, 0, 0, 1, 0, 0, 0)\n",
       "2     (0, 0, 0, 0, 0, 0, 0, 1, 0, 0, 0)\n",
       "3     (0, 0, 0, 0, 0, 0, 0, 0, 0, 1, 0)\n",
       "4     (0, 0, 0, 1, 0, 0, 0, 1, 0, 0, 0)\n",
       "5     (0, 0, 1, 0, 0, 0, 0, 0, 1, 1, 0)\n",
       "6     (0, 0, 0, 0, 0, 0, 0, 0, 0, 1, 0)\n",
       "7     (0, 0, 1, 1, 0, 0, 0, 0, 0, 1, 0)\n",
       "8     (0, 0, 0, 1, 0, 0, 0, 1, 0, 0, 0)\n",
       "9     (0, 0, 0, 1, 0, 1, 0, 1, 1, 0, 0)\n",
       "10    (0, 0, 0, 0, 0, 1, 0, 0, 1, 0, 0)\n",
       "11    (1, 1, 1, 1, 1, 1, 1, 1, 1, 1, 1)\n",
       "12    (0, 0, 0, 1, 0, 0, 0, 0, 0, 0, 0)\n",
       "13    (0, 0, 0, 0, 0, 0, 0, 0, 0, 1, 0)\n",
       "14    (0, 0, 0, 0, 0, 0, 0, 0, 1, 0, 0)\n",
       "15    (0, 0, 0, 1, 0, 0, 0, 0, 1, 1, 0)\n",
       "16    (0, 0, 0, 1, 0, 0, 0, 0, 1, 1, 0)\n",
       "17    (0, 0, 0, 0, 0, 0, 0, 1, 0, 0, 0)\n",
       "18    (0, 0, 0, 1, 0, 0, 0, 0, 0, 0, 0)\n",
       "19    (1, 0, 0, 1, 0, 0, 1, 0, 0, 0, 0)\n",
       "20    (0, 0, 0, 1, 0, 0, 0, 0, 0, 1, 0)\n",
       "21    (0, 0, 0, 0, 0, 0, 0, 0, 0, 0, 1)\n",
       "22    (0, 0, 1, 0, 0, 1, 0, 0, 1, 1, 0)\n",
       "23    (0, 0, 0, 1, 0, 0, 0, 0, 1, 0, 0)\n",
       "24    (0, 0, 0, 0, 0, 0, 0, 0, 0, 1, 0)\n",
       "25    (0, 0, 0, 0, 0, 0, 0, 0, 1, 1, 0)\n",
       "26    (0, 0, 0, 0, 0, 0, 1, 0, 0, 0, 0)\n",
       "27    (0, 0, 0, 1, 0, 0, 0, 0, 0, 1, 0)\n",
       "28    (0, 0, 0, 0, 0, 0, 0, 0, 0, 1, 0)\n",
       "29    (0, 0, 0, 0, 0, 0, 0, 0, 1, 0, 0)\n",
       "30    (0, 0, 1, 0, 0, 1, 0, 1, 1, 1, 0)\n",
       "31    (0, 0, 0, 0, 0, 1, 0, 0, 1, 0, 0)\n",
       "32    (0, 0, 1, 0, 0, 1, 1, 1, 0, 0, 0)\n",
       "33    (0, 0, 1, 1, 0, 1, 0, 1, 1, 1, 0)\n",
       "34    (0, 0, 0, 1, 0, 1, 0, 0, 1, 1, 0)\n",
       "35    (0, 0, 1, 1, 0, 1, 0, 0, 0, 1, 0)\n",
       "36    (0, 0, 0, 1, 0, 1, 0, 0, 0, 0, 0)\n",
       "37    (1, 0, 1, 1, 0, 1, 0, 1, 1, 1, 0)\n",
       "38    (1, 0, 0, 0, 0, 0, 0, 0, 0, 0, 0)\n",
       "39    (0, 1, 0, 1, 0, 0, 0, 0, 0, 0, 0)\n",
       "40    (0, 0, 0, 0, 0, 1, 0, 0, 1, 0, 0)\n",
       "41    (0, 0, 0, 0, 0, 0, 0, 1, 0, 0, 0)\n",
       "42    (0, 0, 0, 0, 0, 1, 0, 0, 1, 0, 0)\n",
       "43    (0, 1, 0, 0, 0, 0, 0, 0, 0, 0, 0)\n",
       "44    (0, 0, 0, 0, 0, 0, 0, 0, 1, 0, 0)\n",
       "45    (0, 1, 0, 0, 1, 0, 1, 0, 0, 0, 1)\n",
       "46    (0, 0, 0, 1, 0, 1, 0, 0, 1, 1, 0)\n",
       "47    (0, 0, 0, 0, 0, 0, 0, 1, 0, 0, 0)\n",
       "48    (0, 0, 0, 0, 0, 1, 0, 0, 1, 0, 0)\n",
       "49    (1, 0, 1, 0, 0, 0, 1, 1, 0, 1, 1)\n",
       "50    (0, 0, 1, 0, 0, 0, 0, 0, 0, 0, 0)\n",
       "51    (0, 0, 0, 0, 0, 0, 0, 0, 1, 0, 0)\n",
       "52    (0, 1, 1, 0, 0, 0, 0, 1, 0, 0, 0)\n",
       "53    (0, 0, 0, 0, 0, 0, 0, 1, 1, 1, 0)\n",
       "54    (0, 1, 0, 1, 0, 0, 0, 1, 1, 1, 0)\n",
       "55    (0, 0, 0, 0, 0, 0, 1, 1, 1, 0, 0)\n",
       "56    (0, 0, 1, 0, 0, 0, 0, 0, 0, 0, 0)\n",
       "Name: Hvilke fylker i Norge mener du er best egnet til vindkraft?, dtype: object"
      ]
     },
     "execution_count": 28,
     "metadata": {},
     "output_type": "execute_result"
    }
   ],
   "source": [
    "data[\"Hvilke fylker i Norge mener du er best egnet til vindkraft?\"]\n",
    "# data[0:3] # selct row 0-3 from all columns"
   ]
  },
  {
   "cell_type": "code",
   "execution_count": null,
   "metadata": {},
   "outputs": [],
   "source": [
    "loc_value = 1\n",
    "data.loc(loc_value) # Locate one row with the value loc_value"
   ]
  }
 ],
 "metadata": {
  "kernelspec": {
   "display_name": "Python 3",
   "language": "python",
   "name": "python3"
  },
  "language_info": {
   "codemirror_mode": {
    "name": "ipython",
    "version": 3
   },
   "file_extension": ".py",
   "mimetype": "text/x-python",
   "name": "python",
   "nbconvert_exporter": "python",
   "pygments_lexer": "ipython3",
   "version": "3.10.11"
  }
 },
 "nbformat": 4,
 "nbformat_minor": 2
}
